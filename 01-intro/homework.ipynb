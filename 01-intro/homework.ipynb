{
 "cells": [
  {
   "cell_type": "code",
   "execution_count": 1,
   "id": "6c268f6c-6aaa-4fb7-8ae7-b2776b4478e3",
   "metadata": {},
   "outputs": [],
   "source": [
    "import openai"
   ]
  },
  {
   "cell_type": "code",
   "execution_count": 2,
   "id": "ac451681-f497-4029-b79c-6bca5bf628c7",
   "metadata": {},
   "outputs": [],
   "source": [
    "from openai import OpenAI"
   ]
  },
  {
   "cell_type": "code",
   "execution_count": 3,
   "id": "fc67a2d2-ca27-44cd-85ae-ddcfafb5cc11",
   "metadata": {},
   "outputs": [],
   "source": [
    "import os"
   ]
  },
  {
   "cell_type": "code",
   "execution_count": 7,
   "id": "35c3ff11-bad9-451b-9a1c-7bfde6d7cb9a",
   "metadata": {},
   "outputs": [],
   "source": [
    "response = client.chat.completions.create(model=\"gpt-4o\",\n",
    "                                          messages=[{\"role\": \"user\", \"content\": \"Is it too late to join the course?\"}])"
   ]
  },
  {
   "cell_type": "code",
   "execution_count": 8,
   "id": "4f522e53-d7e9-428e-8c20-feb85ee941d0",
   "metadata": {},
   "outputs": [
    {
     "data": {
      "text/plain": [
       "ChatCompletion(id='chatcmpl-A0sNk0tjShsl4PmwYk0QTo71N8N3h', choices=[Choice(finish_reason='stop', index=0, logprobs=None, message=ChatCompletionMessage(content=\"It's not clear which specific course you're referring to, but in general, whether it's too late to join a course can depend on several factors such as the institution offering the course, the course structure, and the timing within the semester or term. \\n\\nHere are some steps you might consider to determine if you can still join the course:\\n\\n1. **Contact the Instructor or Institution**: Reach out directly to the instructor or the administration office. They can give you the most accurate and specific information regarding enrollment deadlines.\\n\\n2. **Check the Course Syllabus**: If the syllabus is available online, it often includes important dates and deadlines which can help you understand the course timeline.\\n\\n3. **Consider the Course Format**: Some courses are self-paced or have rolling admissions, which means you may be able to join at any time. Others may have strict deadlines.\\n\\n4. **Look at Prerequisites**: Make sure you meet any prerequisites for the course. If there are required materials or prior knowledge needed, ask if there are ways to quickly get up to speed.\\n\\n5. **Assess Your Own Schedule**: Even if you can technically still enroll, consider whether you can realistically catch up on missed work and fully participate in the course activities.\\n\\nIf you're finding it too late for this term, you might also consider enrolling in the next term or looking for alternative courses that have more flexible start dates.\", refusal=None, role='assistant', function_call=None, tool_calls=None))], created=1724772408, model='gpt-4o-2024-05-13', object='chat.completion', service_tier=None, system_fingerprint='fp_3aa7262c27', usage=CompletionUsage(completion_tokens=279, prompt_tokens=16, total_tokens=295))"
      ]
     },
     "execution_count": 8,
     "metadata": {},
     "output_type": "execute_result"
    }
   ],
   "source": [
    "response"
   ]
  },
  {
   "cell_type": "code",
   "execution_count": 12,
   "id": "ba7be495-73cc-446c-8c17-853f6393d98e",
   "metadata": {},
   "outputs": [
    {
     "data": {
      "text/plain": [
       "\"It's not clear which specific course you're referring to, but in general, whether it's too late to join a course can depend on several factors such as the institution offering the course, the course structure, and the timing within the semester or term. \\n\\nHere are some steps you might consider to determine if you can still join the course:\\n\\n1. **Contact the Instructor or Institution**: Reach out directly to the instructor or the administration office. They can give you the most accurate and specific information regarding enrollment deadlines.\\n\\n2. **Check the Course Syllabus**: If the syllabus is available online, it often includes important dates and deadlines which can help you understand the course timeline.\\n\\n3. **Consider the Course Format**: Some courses are self-paced or have rolling admissions, which means you may be able to join at any time. Others may have strict deadlines.\\n\\n4. **Look at Prerequisites**: Make sure you meet any prerequisites for the course. If there are required materials or prior knowledge needed, ask if there are ways to quickly get up to speed.\\n\\n5. **Assess Your Own Schedule**: Even if you can technically still enroll, consider whether you can realistically catch up on missed work and fully participate in the course activities.\\n\\nIf you're finding it too late for this term, you might also consider enrolling in the next term or looking for alternative courses that have more flexible start dates.\""
      ]
     },
     "execution_count": 12,
     "metadata": {},
     "output_type": "execute_result"
    }
   ],
   "source": [
    "response.choices[0].message.content"
   ]
  },
  {
   "cell_type": "code",
   "execution_count": null,
   "id": "39fbf62d-1afe-47d2-976f-43f0872211f2",
   "metadata": {},
   "outputs": [],
   "source": []
  }
 ],
 "metadata": {
  "kernelspec": {
   "display_name": "Python 3 (ipykernel)",
   "language": "python",
   "name": "python3"
  },
  "language_info": {
   "codemirror_mode": {
    "name": "ipython",
    "version": 3
   },
   "file_extension": ".py",
   "mimetype": "text/x-python",
   "name": "python",
   "nbconvert_exporter": "python",
   "pygments_lexer": "ipython3",
   "version": "3.12.1"
  }
 },
 "nbformat": 4,
 "nbformat_minor": 5
}
